{
 "cells": [
  {
   "cell_type": "code",
   "execution_count": null,
   "id": "f764a39e",
   "metadata": {},
   "outputs": [],
   "source": [
    "import pandas as pd\n",
    "import altair as alt"
   ]
  },
  {
   "cell_type": "code",
   "execution_count": null,
   "id": "77f9b4a8",
   "metadata": {},
   "outputs": [],
   "source": [
    "movies = pd.read_csv(\"https://raw.githubusercontent.com/erickedu85/dataset/master/movies-extended.csv\", parse_dates=['Release_Date'])\n",
    "movies"
   ]
  }
 ],
 "metadata": {
  "language_info": {
   "name": "python"
  }
 },
 "nbformat": 4,
 "nbformat_minor": 5
}
